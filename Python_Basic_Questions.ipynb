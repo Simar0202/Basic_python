{
  "nbformat": 4,
  "nbformat_minor": 0,
  "metadata": {
    "colab": {
      "provenance": []
    },
    "kernelspec": {
      "name": "python3",
      "display_name": "Python 3"
    },
    "language_info": {
      "name": "python"
    }
  },
  "cells": [
    {
      "cell_type": "markdown",
      "source": [
        "1. What is Python, and why is it popular?\n",
        "\n",
        "  Python is a programming language and there are various reason behind Python as a famous language:\n",
        "   - Easy to learn and write: Python is easy to learn and write, and has a simple syntax similar to English language\n",
        "   - Active community: It has active community which contributes to various improvements.\n",
        "   - Rich in libraries: It is rich in libraries(contains various of inbuilt functions and modules)\n",
        "   - Cross-platform compatibility: Python can run on different platforms like Windows, Linux, MacOS and many more.\n",
        "   - Interpreted language: Python is a interpreted language, that is it can run code as soon as it is written."
      ],
      "metadata": {
        "id": "Tw3O_Ik1ewXV"
      }
    },
    {
      "cell_type": "markdown",
      "source": [
        "2. What is an interpreter in Python?\n",
        "\n",
        " Python runs on an interpreter system, which means it executes code as soon as it is written. This makes debugging easier, as error can be indentified easily.\n",
        "\n",
        " If there is a mistake in any line, Python stops execution and displays error.\n",
        "\n",
        " Unlike many programming languages, Python does not convert the high-level code into low-level code. Instead, it scans the entire code into bytecode which is interpreted by the Python Virtual Machine(PVM) and provides the output.\n",
        "\n",
        "\n"
      ],
      "metadata": {
        "id": "8YyckqfrfAYr"
      }
    },
    {
      "cell_type": "markdown",
      "source": [
        "3. What are pre-defined keywords in Python?\n",
        "\n",
        " Predefined keywords are special words or reserved words in python that hold a special meaning and cannot be used as variable names, function names or any identifiers.\n",
        "\n",
        " Keywords are really essential because they control the flow of the program(if,elif,else).\n",
        "\n",
        " Keywords are Case sensitive in Python. for example, we cannot write 'PRINT' in place of 'print' because it will throw syntax error.\n",
        "\n",
        " Examples of predefined Keywords:\n",
        " if, elif, else, True, False, print, while, for and many more.\n",
        "\n",
        "\n",
        "\n"
      ],
      "metadata": {
        "id": "O2PWtrWViRQL"
      }
    },
    {
      "cell_type": "markdown",
      "source": [
        "4. Can keywords be used as variable names ?\n",
        "\n",
        " No, keywords can not be used as variable names because they are reserved for  specific purposes.\n",
        "\n",
        " Predefined keywords are special words or the reserved words in python that hold a special meaning and using them as variable names can confuse the interpreter, which can lead to syntax errors."
      ],
      "metadata": {
        "id": "6KYNcR-Sq7L0"
      }
    },
    {
      "cell_type": "markdown",
      "source": [
        "5. What is mutability in Python?\n",
        "\n",
        " Mutability in Python means whether a value can be changed after it is created.\n",
        "\n",
        " In Python, there are mutable objects and Non-mutable objects.\n",
        "\n",
        " For example = List, Dictionary, Set.\n",
        "\n",
        " In the code below, we are trying to append and update the list.\n",
        "```python\n",
        "# Example of mutability in Python\n",
        "my_list = [\"simar\",\"elena\",\"rohan\",\"sohan\"]\n",
        " # Updating the List\n",
        "my_list[0] = \"ishika\"\n",
        "print(my_list)\n",
        "# adding an element\n",
        "my_list.append(\"ramneet\")\n",
        "print(my_list)\n",
        "\n"
      ],
      "metadata": {
        "id": "bIMKCR9U2Yzy"
      }
    },
    {
      "cell_type": "markdown",
      "source": [
        "6. Why are lists mutable, but tuples are immutable?\n",
        "\n",
        " **Lists** are mutable because we can change the value after they have been created.\n",
        "\n",
        "  Lists are important in building a program that involves changing or updating the data.  \n",
        "  For example - Shopping cart, Grocery List, etc.\n",
        "\n",
        "  Lists are slower because they need extra space for modification.\n",
        "\n",
        " **Tuples** are immutable because we cannot the value after being created.\n",
        "\n",
        "  Tuples are used to collect fixed collections of data.\n",
        "\n",
        "  For example - Adhaar card number, Employee ID, etc.\n",
        "\n",
        "  Tuples are faster and memory efficient.\n",
        "\n",
        "\n",
        "\n"
      ],
      "metadata": {
        "id": "x-Zg3Er6JF1J"
      }
    },
    {
      "cell_type": "markdown",
      "source": [
        "7. What is the difference between “==” and “is” operators in Python?\n",
        "\n",
        " \"==\" is the Equality operator, whereas \"is\" operator is the identity operator.\n",
        "\n",
        " \"==\" is used to check if two values are the same and result is a boolean(True or False)\n",
        "\n",
        " \"is\" checks if the two variables point to the same memory location.\n",
        "\n",
        "```python\n",
        "# Equality operator\n",
        "if 7 == 7:\n",
        "    print(\"Helloo\")\n",
        "    \n",
        "# Identity operator\n",
        "a = 5\n",
        "b = a\n",
        "print(a is b)\n"
      ],
      "metadata": {
        "id": "3CZrpMacNzsI"
      }
    },
    {
      "cell_type": "markdown",
      "source": [
        "8. What are logical operators in Python?\n",
        "\n",
        " Logical Operators are used to check multiple conditions at once and result is\n",
        "either True or False based on the condition.\n",
        "\n",
        "    There are three types of Logical Operators:\n",
        "\n",
        " OR oeprator - Returun True if atleast one condition is True\n",
        "\n",
        " AND operator - Return True of both the condition is True\n",
        "\n",
        " NOT operator - Reverse the result,True becomes False, and vice versa.\n",
        " ```python\n",
        " # Logical operator\n",
        "a = 10\n",
        "b = 20\n",
        "c = 30\n",
        "# AND Operator\n",
        "if(a>b and a>c):\n",
        "    print(\"a is the greatest\")\n",
        "elif(b>a and b>c):\n",
        "    print(\"b is the greatest\")\n",
        "else:\n",
        "    print(\"c is the greatest\")\n",
        "# OR operator\n",
        "student_age = int(input(\"Enter the student age: \"))\n",
        "school_id = input(\"Do you have school id(yes or not: \")\n",
        "if student_age< 18 or school_id ==\"yes\":\n",
        "    print(\"You can have discount on the ride\")\n",
        "else:\n",
        "    print(\"Better luck next time\")\n",
        "# NOT OPERATOR\n",
        "print(f\"Is a not equal to b??{not(a==b)}\")\n",
        "\n"
      ],
      "metadata": {
        "id": "CLRI7SmNN_Hx"
      }
    },
    {
      "cell_type": "markdown",
      "source": [
        "9. What is Type Casting in Python?\n",
        "\n",
        "  Type Casting includes changing the data type of one into another.\n",
        "\n",
        " for example - If we want to change a integer into float we will use float(variable_name).\n",
        "\n",
        " Type Casting helps to change the data type based on the needs of the program.\n",
        "\n",
        " ```python\n",
        "# Type Casting in Python\n",
        "# changing int into float\n",
        "a = 9\n",
        "a = float(a)\n",
        "print(a)\n",
        "print(type(a))\n",
        "# changing float into int\n",
        "b = 4.2\n",
        "b = int(b)\n",
        "print(b)\n",
        "print(type(b))\n",
        "\n"
      ],
      "metadata": {
        "id": "kqYQfc1NQKgz"
      }
    },
    {
      "cell_type": "markdown",
      "source": [
        "10. What is the difference between implicit and explicit type casting ?\n",
        "\n",
        " TYPE CONVERSION - In Implicit type casting, the type conversion is done automatically by python, whereas in Explicit type casting type conversion is done manually by the programmer.\n",
        "\n",
        " FUNCTION USED - In Implicit casting, no function is used. In contrast, in explicit type casting, functions like int(), str(), float() are used to change the data type of variable.\n",
        "\n",
        " CHANCES OF ERROR - There are no chances of error in implicit type casting because it is handled by Python. In contrast, error can happen during explicit type casting if conversion is not done correctly.\n",
        " ```python\n",
        " # Implicit type casting\n",
        "a = 2\n",
        "b = 7.0\n",
        "result = a+b    # int+float = float\n",
        "print(result)\n",
        "print(type(result))\n",
        "# Explicit type casting\n",
        "x = 4.0\n",
        "x = int(x)\n",
        "print(x)\n",
        "print(type(x))\n",
        "\n",
        "\n"
      ],
      "metadata": {
        "id": "rXe3feoASQiq"
      }
    },
    {
      "cell_type": "markdown",
      "source": [
        "11. What is the purpose of conditional statements in Python?\n",
        "\n",
        " Conditional statements in Python are used to execute pieces of code based on specific conditions.\n",
        "\n",
        " Conditional Statements control the flow of the program.\n",
        "\n",
        " Indentation is essential while using conditional statements in Python,otherwise it will throw a syntax error.\n",
        "\n",
        " It consists of keywords such as if, else and elif.\n",
        "\n",
        " if - if executes a block of code if the given condition is True.\n",
        "\n",
        " elif - elif stands for 'else if'. It helps us to check multiple conditions and execute the block of code that matches. It also eliminates the need for nested if-else statements.\n",
        "\n",
        " else - executes a block of code if the previous conditions associated with if and elif are False.\n",
        " ```python\n",
        " marks = int(input(\"Enter your marks: \"))\n",
        "if marks>=90 and marks<=100:\n",
        "    print(\"Grade A\")\n",
        "elif marks>=80 and marks<90:\n",
        "    print(\"Grade B\")\n",
        "else:\n",
        "    print(\"You need to focus on your studies\")\n",
        "\n"
      ],
      "metadata": {
        "id": "lvdqAdZcWSNj"
      }
    },
    {
      "cell_type": "markdown",
      "source": [
        "12. How does the elif statement work?\n",
        "\n",
        "   elif statement is a part of the conditional statements in Python.\n",
        "\n",
        "   There are three main keywords used in conditional statements: if, elif and else.\n",
        "\n",
        "   elif, which stands for \"else if\".\n",
        "\n",
        "   It is used to check another condition if the condition in the if statement is False.\n",
        "\n",
        "   If the elif condition is True, it executes the code block beneath it.\n",
        "\n",
        "   If none of the if or elif conditions are True, then the code inside the else block(if present) is executed. The else block is the final conditional statement."
      ],
      "metadata": {
        "id": "L-FNoKPqZLJl"
      }
    },
    {
      "cell_type": "markdown",
      "source": [
        "13. What is the difference between for and while loops?\n",
        "\n",
        "  For loop iterates over a sequence of items, while a while loop repeatedly execute block of code until a condition remains True.\n",
        "\n",
        "  The syntax of for loop.\n",
        "  ```python\n",
        "  for variable in sequence:\n",
        "    # codeblock\n",
        "    ```\n",
        "  The syntax of while loop.\n",
        "  ```python\n",
        "  while condition:\n",
        "    # codeblock\n",
        "    ```\n",
        "  There is higher risk of error in while loop because if the condition never becomes False it results in an infinite loop whereas For loop is more safer and predictive.\n",
        "\n",
        "  ```python\n",
        "  # for loop\n",
        "\n",
        "  for i in range(1,4):\n",
        "    print(i)\n",
        "    \n",
        "  # while loop\n",
        "i = 1\n",
        "while i < 4:\n",
        "    print(i)\n",
        "    i += 1\n",
        "\n"
      ],
      "metadata": {
        "id": "a__dbz4MjVwo"
      }
    },
    {
      "cell_type": "markdown",
      "source": [
        "14. Describe a scenario where a while loop is more suitable than a for loop?\n",
        "```python\n",
        "my_food = []\n",
        "while True:\n",
        "    food = input(\"Enter the food you want to eat: \")\n",
        "    if food == \"done\":\n",
        "        break\n",
        "    else:\n",
        "        my_food.append(food)\n",
        "print(my_food)\n",
        "```\n",
        "This code fits the scenario where while loop is more suitable than for loop because here we don't know the exact number of food which will be included in the list."
      ],
      "metadata": {
        "id": "NFhvEpzHpqjr"
      }
    },
    {
      "cell_type": "markdown",
      "source": [
        "#        "
      ],
      "metadata": {
        "id": "O0oYan6ArJb9"
      }
    },
    {
      "cell_type": "markdown",
      "source": [
        "                          ------------PRACTICAL QUESTIONS-----------------------"
      ],
      "metadata": {
        "id": "Bdzx46MkrNP1"
      }
    },
    {
      "cell_type": "code",
      "execution_count": null,
      "metadata": {
        "colab": {
          "base_uri": "https://localhost:8080/"
        },
        "id": "r0QhMYzHyML2",
        "outputId": "b743aee5-aaba-4bb7-ef7e-91fc491ab929"
      },
      "outputs": [
        {
          "output_type": "stream",
          "name": "stdout",
          "text": [
            "Hello, World!\n"
          ]
        }
      ],
      "source": [
        "# question1 -  Write a Python program to print \"Hello, World!\n",
        "\n",
        "print(\"Hello, World!\")"
      ]
    },
    {
      "cell_type": "code",
      "source": [
        "# question2 - Write a Python program that displays your name and age\n",
        "name = input(\"Enter your name: \")\n",
        "age = int(input(\"Enter your age: \"))\n",
        "print(f\"Your name is {name} and you are {age} years old.\")"
      ],
      "metadata": {
        "colab": {
          "base_uri": "https://localhost:8080/"
        },
        "id": "_j3ZgZHeyZpS",
        "outputId": "6d7a7132-bc40-4639-8aa0-0b2afe1682a1"
      },
      "execution_count": null,
      "outputs": [
        {
          "output_type": "stream",
          "name": "stdout",
          "text": [
            "Enter your name: Simar\n",
            "Enter your age: 22\n",
            "Your name is Simar and you are 22 years old.\n"
          ]
        }
      ]
    },
    {
      "cell_type": "code",
      "source": [
        "# question 3 - Write code to print all the pre-defined keywords in Python using the keyword library\n",
        "import keyword\n",
        "\n",
        "keywords = keyword.kwlist\n",
        "\n",
        "for kwords in keywords:\n",
        "    print(kwords)"
      ],
      "metadata": {
        "colab": {
          "base_uri": "https://localhost:8080/"
        },
        "id": "ll7wpg7Fy-qK",
        "outputId": "183c0d8d-76c3-4e15-c4db-06f7c7dbc1bc"
      },
      "execution_count": null,
      "outputs": [
        {
          "output_type": "stream",
          "name": "stdout",
          "text": [
            "False\n",
            "None\n",
            "True\n",
            "and\n",
            "as\n",
            "assert\n",
            "async\n",
            "await\n",
            "break\n",
            "class\n",
            "continue\n",
            "def\n",
            "del\n",
            "elif\n",
            "else\n",
            "except\n",
            "finally\n",
            "for\n",
            "from\n",
            "global\n",
            "if\n",
            "import\n",
            "in\n",
            "is\n",
            "lambda\n",
            "nonlocal\n",
            "not\n",
            "or\n",
            "pass\n",
            "raise\n",
            "return\n",
            "try\n",
            "while\n",
            "with\n",
            "yield\n"
          ]
        }
      ]
    },
    {
      "cell_type": "code",
      "source": [
        "# question 4 - Write a program that checks if a given word is a Python keyword.\n",
        "\n",
        "kw = input(\"Enter the keyword you want to find about: \")\n",
        "if kw in keyword.kwlist:\n",
        "  print(\"Keyword is present\")\n",
        "else:\n",
        "  print(\"Keyword is not present\")\n"
      ],
      "metadata": {
        "colab": {
          "base_uri": "https://localhost:8080/"
        },
        "id": "yg-B1jaW1Y5Q",
        "outputId": "155ba9cc-22b7-4525-8c0b-e1ff0daf0cec"
      },
      "execution_count": null,
      "outputs": [
        {
          "output_type": "stream",
          "name": "stdout",
          "text": [
            "Enter the keyword you want to find about: fail\n",
            "Keyword is not present\n"
          ]
        }
      ]
    },
    {
      "cell_type": "code",
      "source": [
        "# question 5 -  Create a list and tuple in Python, and demonstrate how attempting to change an element works differently for each\n",
        "\n",
        "list = [1,2,3,4,5,6]\n",
        "# changing the list\n",
        "list[2] = 100\n",
        "print(list)\n",
        "\n",
        "tuple = (1,2,3,4,5,6)\n",
        "# changing the list\n",
        "tuple[0] = 100\n",
        "print(tuple)\n"
      ],
      "metadata": {
        "colab": {
          "base_uri": "https://localhost:8080/",
          "height": 211
        },
        "id": "ffuIXvTV2t9L",
        "outputId": "aa7d7584-a5a6-452c-d096-0bffad9dd228"
      },
      "execution_count": null,
      "outputs": [
        {
          "output_type": "stream",
          "name": "stdout",
          "text": [
            "[1, 2, 100, 4, 5, 6]\n"
          ]
        },
        {
          "output_type": "error",
          "ename": "TypeError",
          "evalue": "'tuple' object does not support item assignment",
          "traceback": [
            "\u001b[0;31m---------------------------------------------------------------------------\u001b[0m",
            "\u001b[0;31mTypeError\u001b[0m                                 Traceback (most recent call last)",
            "\u001b[0;32m/tmp/ipython-input-4099679590.py\u001b[0m in \u001b[0;36m<cell line: 0>\u001b[0;34m()\u001b[0m\n\u001b[1;32m      8\u001b[0m \u001b[0mtuple\u001b[0m \u001b[0;34m=\u001b[0m \u001b[0;34m(\u001b[0m\u001b[0;36m1\u001b[0m\u001b[0;34m,\u001b[0m\u001b[0;36m2\u001b[0m\u001b[0;34m,\u001b[0m\u001b[0;36m3\u001b[0m\u001b[0;34m,\u001b[0m\u001b[0;36m4\u001b[0m\u001b[0;34m,\u001b[0m\u001b[0;36m5\u001b[0m\u001b[0;34m,\u001b[0m\u001b[0;36m6\u001b[0m\u001b[0;34m)\u001b[0m\u001b[0;34m\u001b[0m\u001b[0;34m\u001b[0m\u001b[0m\n\u001b[1;32m      9\u001b[0m \u001b[0;31m# changing the list\u001b[0m\u001b[0;34m\u001b[0m\u001b[0;34m\u001b[0m\u001b[0m\n\u001b[0;32m---> 10\u001b[0;31m \u001b[0mtuple\u001b[0m\u001b[0;34m[\u001b[0m\u001b[0;36m0\u001b[0m\u001b[0;34m]\u001b[0m \u001b[0;34m=\u001b[0m \u001b[0;36m100\u001b[0m\u001b[0;34m\u001b[0m\u001b[0;34m\u001b[0m\u001b[0m\n\u001b[0m\u001b[1;32m     11\u001b[0m \u001b[0mprint\u001b[0m\u001b[0;34m(\u001b[0m\u001b[0mtuple\u001b[0m\u001b[0;34m)\u001b[0m\u001b[0;34m\u001b[0m\u001b[0;34m\u001b[0m\u001b[0m\n",
            "\u001b[0;31mTypeError\u001b[0m: 'tuple' object does not support item assignment"
          ]
        }
      ]
    },
    {
      "cell_type": "code",
      "source": [
        "# 6. Write a function to demonstrate the behavior of mutable and immutable arguments.\n",
        "def change(lst,tup):\n",
        "    lst.append(5)\n",
        "    try:\n",
        "        tup[1] = 2\n",
        "    except TypeError:\n",
        "        print(\"Tuples are immutable\")\n",
        "\n",
        "\n",
        "my_list = [1,2,3,4]\n",
        "my_tuple = (1,4,6)\n",
        "\n",
        "print(\"BEFORE\",my_list,my_tuple)\n",
        "change(my_list,my_tuple)\n",
        "print(\"AFTER\",my_list,my_tuple)\n"
      ],
      "metadata": {
        "id": "I6yzCtIaIOv1",
        "colab": {
          "base_uri": "https://localhost:8080/"
        },
        "outputId": "56a4e996-7a8a-4740-f939-c49693b7dd35"
      },
      "execution_count": 1,
      "outputs": [
        {
          "output_type": "stream",
          "name": "stdout",
          "text": [
            "BEFORE [1, 2, 3, 4] (1, 4, 6)\n",
            "Tuples are immutable\n",
            "AFTER [1, 2, 3, 4, 5] (1, 4, 6)\n"
          ]
        }
      ]
    },
    {
      "cell_type": "code",
      "source": [
        "# question 7 - Write a program that performs basic arithmetic operations on two user-input numbers\n",
        "\n",
        "num1 = float(input(\"Enter the first number: \"))\n",
        "num2 = float(input(\"Enter the second number: \"))\n",
        "print(\"----Basic Arthmetic Operations --------\")\n",
        "print(f\"Addition of {num1} and {num2} is {num1+num2}\")\n",
        "print(f\"Subtraction of {num1} and {num2} is {num1-num2}\")\n",
        "print(f\"Multiplication of {num1} and {num2} is {num1*num2}\")\n",
        "print(f\"Division of {num1} and {num2} is {num1/num2}\")\n",
        "print(f\"Floor Division of {num1} and {num2} is {num1//num2}\")\n",
        "print(f\"Modulus of {num1} and {num2} is {num1%num2}\")\n",
        "print(f\"Exponent of {num1} and {num2} is {num1**num2}\")"
      ],
      "metadata": {
        "colab": {
          "base_uri": "https://localhost:8080/"
        },
        "id": "StdPylHR5KGs",
        "outputId": "f40dc010-c9af-4bb6-c87d-70377b63245b"
      },
      "execution_count": null,
      "outputs": [
        {
          "output_type": "stream",
          "name": "stdout",
          "text": [
            "Enter the first number: 2\n",
            "Enter the second number: 2\n",
            "----Basic Arthmetic Operations --------\n",
            "Addition of 2.0 and 2.0 is 4.0\n",
            "Subtraction of 2.0 and 2.0 is 0.0\n",
            "Multiplication of 2.0 and 2.0 is 4.0\n",
            "Division of 2.0 and 2.0 is 1.0\n",
            "Floor Division of 2.0 and 2.0 is 1.0\n",
            "Modulus of 2.0 and 2.0 is 0.0\n",
            "Exponent of 2.0 and 2.0 is 4.0\n"
          ]
        }
      ]
    },
    {
      "cell_type": "code",
      "source": [
        "# question- 8 Write a program to demonstrate the use of logical operators\n",
        "# AND OPERATOR\n",
        "\n",
        "profession = input(\"Enter your profession(student or teacher): \")\n",
        "age = int(input(\"Enter your current age: \"))\n",
        "if(profession == \"student\" and (age <=14)):\n",
        "  print(\"You can have discount on the ticket for ride\")\n",
        "else:\n",
        "  print(\"You cannot have the discount\")\n",
        "\n",
        "# OR OPERATOR\n",
        "\n",
        "profession = input(\"Enter your profession(student or teacher): \")\n",
        "age = int(input(\"Enter your current age: \"))\n",
        "if(profession == \"student\" or (age <=14)):\n",
        "  print(\"You can have discount on the ticket for ride\")\n",
        "else:\n",
        "  print(\"No Discount!!!!! You should meet atleast one of the criteria\")\n",
        "\n",
        "# NOT operator\n",
        "has_ticket = True\n",
        "if not has_ticket:\n",
        "  print(\"You cannot go on the ride\")\n",
        "else:\n",
        "  print(\"You can go on the ride\")\n"
      ],
      "metadata": {
        "colab": {
          "base_uri": "https://localhost:8080/"
        },
        "id": "D4MlJzQRLxml",
        "outputId": "cce260cf-06fe-47dd-e0e4-3c1a5bed79d2"
      },
      "execution_count": null,
      "outputs": [
        {
          "output_type": "stream",
          "name": "stdout",
          "text": [
            "Enter your profession(student or teacher): student \n",
            "Enter your current age: 12\n",
            "You cannot have the discount\n",
            "Enter your profession(student or teacher): teacher\n",
            "Enter your current age: 24\n",
            "No Discount!!!!! You should meet atleast one of the criteria\n",
            "You can go on the ride\n"
          ]
        }
      ]
    },
    {
      "cell_type": "code",
      "source": [
        "# question9 - Write a Python program to convert user input from string to integer, float, and boolean types\n",
        "user = input()\n",
        "print(type(user))\n",
        "user = int(user)\n",
        "print(type(user))\n",
        "user = float(user)\n",
        "print(type(user))\n",
        "user = bool(user)\n",
        "print(type(user))"
      ],
      "metadata": {
        "colab": {
          "base_uri": "https://localhost:8080/"
        },
        "id": "ufp4WwCgUHAE",
        "outputId": "35342e45-eb00-4969-f596-3679b4b12475"
      },
      "execution_count": null,
      "outputs": [
        {
          "output_type": "stream",
          "name": "stdout",
          "text": [
            "12\n",
            "<class 'str'>\n",
            "<class 'int'>\n",
            "<class 'float'>\n",
            "<class 'bool'>\n"
          ]
        }
      ]
    },
    {
      "cell_type": "code",
      "source": [
        "# question10 - Write code to demonstrate type casting with list elements.\n",
        "my_list = [1,2,3,4,5,6]\n",
        "print(type(my_list))\n",
        "for item in my_list:\n",
        "  str_item = str(item)\n",
        "  print(type(str_item))\n",
        "\n",
        "\n"
      ],
      "metadata": {
        "colab": {
          "base_uri": "https://localhost:8080/"
        },
        "id": "Hg1C0MdHU6Pu",
        "outputId": "e4505ff7-f98e-405c-8e96-2c77629f1ee4"
      },
      "execution_count": null,
      "outputs": [
        {
          "output_type": "stream",
          "name": "stdout",
          "text": [
            "<class 'list'>\n",
            "<class 'str'>\n",
            "<class 'str'>\n",
            "<class 'str'>\n",
            "<class 'str'>\n",
            "<class 'str'>\n",
            "<class 'str'>\n"
          ]
        }
      ]
    },
    {
      "cell_type": "code",
      "source": [
        "# question 11 -  Write a program that checks if a number is positive, negative, or zero\n",
        "\n",
        "number = int(input(\"Enter the number: \"))\n",
        "if number > 0:\n",
        "  print(\"Number is positive\")\n",
        "elif number < 0:\n",
        "  print(\"Number is negative\")\n",
        "else:\n",
        "  print(\"Number is zero\")"
      ],
      "metadata": {
        "colab": {
          "base_uri": "https://localhost:8080/"
        },
        "id": "EDCR4jGqKkKb",
        "outputId": "6c628885-0e36-464c-f399-985e074890d9"
      },
      "execution_count": null,
      "outputs": [
        {
          "output_type": "stream",
          "name": "stdout",
          "text": [
            "Enter the number: 0\n",
            "Number is zero\n"
          ]
        }
      ]
    },
    {
      "cell_type": "code",
      "source": [
        "# question 12 - Write a for loop to print numbers from 1 to 10.\n",
        "for i in range(1,11):\n",
        "  print(i)"
      ],
      "metadata": {
        "colab": {
          "base_uri": "https://localhost:8080/"
        },
        "id": "vBJ5_MXeMVH5",
        "outputId": "a9efd64f-ccd6-4e12-fbe4-9166fa9ff078"
      },
      "execution_count": null,
      "outputs": [
        {
          "output_type": "stream",
          "name": "stdout",
          "text": [
            "1\n",
            "2\n",
            "3\n",
            "4\n",
            "5\n",
            "6\n",
            "7\n",
            "8\n",
            "9\n",
            "10\n"
          ]
        }
      ]
    },
    {
      "cell_type": "code",
      "source": [
        "# question 13 - Write a Python program to find the sum of all even numbers between 1 and 50.\n",
        "sum = 0\n",
        "for i in range(1,51):\n",
        "  if i%2 == 0:\n",
        "    sum += i\n",
        "print(sum)\n"
      ],
      "metadata": {
        "colab": {
          "base_uri": "https://localhost:8080/"
        },
        "id": "UnYvnbh8MpPV",
        "outputId": "c9972923-b153-4a31-bfbe-41ae7170bad6"
      },
      "execution_count": null,
      "outputs": [
        {
          "output_type": "stream",
          "name": "stdout",
          "text": [
            "650\n"
          ]
        }
      ]
    },
    {
      "cell_type": "code",
      "source": [
        "# question 14 - Write a program to reverse a string using a while loop\n",
        "my_string = input(\"Enter the string you want to reverse: \")\n",
        "\n",
        "new_string = []\n",
        "i = (len(my_string)-1)\n",
        "while i>-1:\n",
        "  new_string.append(my_string[i])\n",
        "  i -=1\n",
        "for item in new_string:\n",
        "    print(item,end=\"\")\n",
        "\n"
      ],
      "metadata": {
        "colab": {
          "base_uri": "https://localhost:8080/"
        },
        "id": "7bEzXc_JNgu3",
        "outputId": "b8d56cf3-d60a-4f96-8376-c10efe1ce9bc"
      },
      "execution_count": null,
      "outputs": [
        {
          "output_type": "stream",
          "name": "stdout",
          "text": [
            "Enter the string you want to reverse: harry\n",
            "yrrah"
          ]
        }
      ]
    },
    {
      "cell_type": "code",
      "source": [
        "# question - 15  Write a Python program to calculate the factorial of a number provided by the user using a while loop\n",
        "\n",
        "number = int(input(\"Enter the number: \"))\n",
        "factorial = 1\n",
        "i = 1\n",
        "while i <= number:\n",
        "    factorial = factorial * i\n",
        "    i += 1\n",
        "print(factorial)\n",
        "\n"
      ],
      "metadata": {
        "colab": {
          "base_uri": "https://localhost:8080/"
        },
        "id": "HskT860pUI5d",
        "outputId": "6a314ef6-1896-4c5c-f212-fe99b2726c06"
      },
      "execution_count": null,
      "outputs": [
        {
          "output_type": "stream",
          "name": "stdout",
          "text": [
            "Enter the number: 6\n",
            "720\n"
          ]
        }
      ]
    }
  ]
}